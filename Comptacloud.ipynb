{
 "metadata": {
  "language_info": {
   "codemirror_mode": {
    "name": "ipython",
    "version": 3
   },
   "file_extension": ".py",
   "mimetype": "text/x-python",
   "name": "python",
   "nbconvert_exporter": "python",
   "pygments_lexer": "ipython3",
   "version": "3.7.9-final"
  },
  "orig_nbformat": 2,
  "kernelspec": {
   "name": "Python 3.7.9 64-bit ('Comptacloud': conda)",
   "display_name": "Python 3.7.9 64-bit ('Comptacloud': conda)",
   "metadata": {
    "interpreter": {
     "hash": "feb71edeedfcc0f0bdd14a1a97cb748caf3b086f0311b8f165a4eda5b2f8ec50"
    }
   }
  }
 },
 "nbformat": 4,
 "nbformat_minor": 2,
 "cells": [
  {
   "source": [
    "# Comptacloud\n",
    "*Mathieu & Orkaëlle*"
   ],
   "cell_type": "markdown",
   "metadata": {}
  },
  {
   "source": [
    "## 0 - Choix de la lettre"
   ],
   "cell_type": "markdown",
   "metadata": {}
  },
  {
   "cell_type": "code",
   "execution_count": 2,
   "metadata": {},
   "outputs": [],
   "source": [
    "# Saisir ci-dessous la(les) lettre(s) souhaitée(s)\n",
    "car = ['V','T']\n",
    "\n",
    "car_path = []\n",
    "for c in car :\n",
    "    car_path.append(f'alphabet-dataset/{c}/')\n"
   ]
  },
  {
   "source": [
    "## 1 - Initialisation"
   ],
   "cell_type": "markdown",
   "metadata": {}
  },
  {
   "cell_type": "code",
   "execution_count": 3,
   "metadata": {},
   "outputs": [],
   "source": [
    "%load_ext autoreload\n",
    "%autoreload 2"
   ]
  },
  {
   "cell_type": "code",
   "execution_count": 4,
   "metadata": {},
   "outputs": [],
   "source": [
    "import fct_utiles as fct"
   ]
  },
  {
   "cell_type": "code",
   "execution_count": 5,
   "metadata": {},
   "outputs": [
    {
     "output_type": "stream",
     "name": "stdout",
     "text": [
      "Datas already downloaded.\n",
      "Extracting alphabet-dataset/V/...\n",
      "Successfull.\n",
      "Extracting alphabet-dataset/T/...\n",
      "Successfull.\n",
      "Datas are successfully loaded.\n",
      "\n"
     ]
    }
   ],
   "source": [
    "fct.check_folder()\n",
    "fct.ensure_data_loaded(car_path)"
   ]
  },
  {
   "cell_type": "code",
   "execution_count": 6,
   "metadata": {},
   "outputs": [
    {
     "output_type": "stream",
     "name": "stdout",
     "text": [
      "All png files convert to a csv file.\n"
     ]
    }
   ],
   "source": [
    "fct.png_to_csv(car_path)"
   ]
  },
  {
   "source": [
    "## 2 - Creation du dataset"
   ],
   "cell_type": "markdown",
   "metadata": {}
  },
  {
   "cell_type": "code",
   "execution_count": null,
   "metadata": {},
   "outputs": [],
   "source": [
    "from keras.models import Sequential\n",
    "from keras_preprocessing.image import ImageDataGenerator\n",
    "from keras.layers import Dense, Activation, Flatten, Dropout, BatchNormalization\n",
    "from keras.layers import Conv2D, MaxPooling2D\n",
    "from keras import regularizers, optimizers\n",
    "import pandas as pd\n",
    "import numpy as np\n",
    "\n",
    "def append_ext(fn):\n",
    "    return fn+\".png\"\n",
    "\n",
    "traindf = pd.read_csv(“./trainLabels.csv”,dtype=str)\n",
    "testdf = pd.read_csv(\"./sampleSubmission.csv\",dtype=str)\n",
    "traindf[\"id\"] = traindf[\"id\"].apply(append_ext)\n",
    "testdf[\"id\"] = testdf[\"id\"].apply(append_ext)\n",
    "datagen = ImageDataGenerator(rescale=1./255.,validation_split=0.25)"
   ]
  }
 ]
}