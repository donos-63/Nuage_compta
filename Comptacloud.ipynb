{
 "metadata": {
  "language_info": {
   "codemirror_mode": {
    "name": "ipython",
    "version": 3
   },
   "file_extension": ".py",
   "mimetype": "text/x-python",
   "name": "python",
   "nbconvert_exporter": "python",
   "pygments_lexer": "ipython3",
   "version": "3.7.9-final"
  },
  "orig_nbformat": 2,
  "kernelspec": {
   "name": "Python 3.7.9 64-bit ('Comptacloud': conda)",
   "display_name": "Python 3.7.9 64-bit ('Comptacloud': conda)",
   "metadata": {
    "interpreter": {
     "hash": "feb71edeedfcc0f0bdd14a1a97cb748caf3b086f0311b8f165a4eda5b2f8ec50"
    }
   }
  }
 },
 "nbformat": 4,
 "nbformat_minor": 2,
 "cells": [
  {
   "source": [
    "# Comptacloud\n",
    "*Mathieu & Orkaëlle*"
   ],
   "cell_type": "markdown",
   "metadata": {}
  },
  {
   "source": [
    "## 0 - Choix de la lettre"
   ],
   "cell_type": "markdown",
   "metadata": {}
  },
  {
   "cell_type": "code",
   "execution_count": 1,
   "metadata": {},
   "outputs": [],
   "source": [
    "%load_ext autoreload\n",
    "%autoreload 2"
   ]
  },
  {
   "cell_type": "code",
   "execution_count": 2,
   "metadata": {},
   "outputs": [
    {
     "output_type": "stream",
     "name": "stderr",
     "text": [
      "Using TensorFlow backend.\n"
     ]
    }
   ],
   "source": [
    "import fct_utiles as fct\n",
    "import IA_comptacloud as IACC"
   ]
  },
  {
   "cell_type": "code",
   "execution_count": 3,
   "metadata": {},
   "outputs": [],
   "source": [
    "# Saisir ci-dessous la(les) lettre(s) souhaitée(s)\n",
    "car = fct.alphabet"
   ]
  },
  {
   "cell_type": "code",
   "execution_count": 4,
   "metadata": {},
   "outputs": [],
   "source": [
    "car_path = []\n",
    "for c in car :\n",
    "    car_path.append(f'alphabet-dataset/{c}/')"
   ]
  },
  {
   "source": [
    "## 1 - Initialisation"
   ],
   "cell_type": "markdown",
   "metadata": {}
  },
  {
   "source": [
    "### Loading raw datas"
   ],
   "cell_type": "markdown",
   "metadata": {}
  },
  {
   "cell_type": "code",
   "execution_count": 5,
   "metadata": {},
   "outputs": [
    {
     "output_type": "stream",
     "name": "stdout",
     "text": [
      "Datas already downloaded.\nDatas are successfully loaded.\n\n"
     ]
    }
   ],
   "source": [
    "fct.check_folder()\n",
    "fct.ensure_data_loaded(car_path)"
   ]
  },
  {
   "source": [
    "### Convert png to csv"
   ],
   "cell_type": "markdown",
   "metadata": {}
  },
  {
   "cell_type": "code",
   "execution_count": 6,
   "metadata": {},
   "outputs": [
    {
     "output_type": "stream",
     "name": "stdout",
     "text": [
      "All png files convert to a csv file.\n"
     ]
    }
   ],
   "source": [
    "fct.png_to_csv(car_path, 300)\n"
   ]
  },
  {
   "source": [
    "## 2 - Training"
   ],
   "cell_type": "markdown",
   "metadata": {}
  },
  {
   "cell_type": "code",
   "execution_count": 6,
   "metadata": {},
   "outputs": [],
   "source": [
    "datasetPath = fct.DATASET_PATH\n",
    "modelName = 'firstmodel'\n",
    "num_classes = len(fct.alphabet)"
   ]
  },
  {
   "cell_type": "code",
   "execution_count": 7,
   "metadata": {},
   "outputs": [
    {
     "output_type": "stream",
     "name": "stdout",
     "text": [
      "6240 train samples\n",
      "1560 test samples\n",
      "Test loss: 0.1763341935399251\n",
      "Test accuracy: 0.9493589997291565\n"
     ]
    }
   ],
   "source": [
    "modelPath = IACC.train_model(datasetPath, modelName)"
   ]
  },
  {
   "source": [
    "## Computer Metrics"
   ],
   "cell_type": "markdown",
   "metadata": {}
  },
  {
   "cell_type": "code",
   "execution_count": null,
   "metadata": {},
   "outputs": [],
   "source": [
    "IACC.computer_metrics(modelPath)"
   ]
  },
  {
   "source": [
    "## Testing the model"
   ],
   "cell_type": "markdown",
   "metadata": {}
  },
  {
   "cell_type": "code",
   "execution_count": null,
   "metadata": {},
   "outputs": [],
   "source": [
    "IACC.drawing_test(modelPath)"
   ]
  },
  {
   "cell_type": "code",
   "execution_count": 8,
   "metadata": {},
   "outputs": [],
   "source": [
    "img = './TESTS/imgtestTB.jpeg'"
   ]
  },
  {
   "cell_type": "code",
   "execution_count": 10,
   "metadata": {},
   "outputs": [
    {
     "output_type": "stream",
     "name": "stdout",
     "text": [
      "[INFO] loading handwriting OCR model...\n",
      "[INFO] F - 97.38%\n",
      "[INFO] I - 93.80%\n",
      "[INFO] K - 99.97%\n",
      "[INFO] Y - 99.90%\n",
      "[INFO] Q - 49.35%\n",
      "[INFO] H - 99.96%\n",
      "[INFO] Y - 99.67%\n",
      "[INFO] Y - 45.01%\n",
      "[INFO] I - 89.89%\n",
      "[INFO] N - 95.81%\n",
      "[INFO] C - 47.57%\n",
      "[INFO] H - 95.33%\n",
      "[INFO] T - 83.79%\n",
      "[INFO] H - 99.42%\n",
      "[INFO] Y - 78.97%\n",
      "[INFO] H - 99.82%\n"
     ]
    }
   ],
   "source": [
    "IACC.img_test(modelPath, img)"
   ]
  },
  {
   "cell_type": "code",
   "execution_count": null,
   "metadata": {},
   "outputs": [],
   "source": []
  }
 ]
}