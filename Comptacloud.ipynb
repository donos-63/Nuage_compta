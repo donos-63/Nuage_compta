{
 "metadata": {
  "language_info": {
   "codemirror_mode": {
    "name": "ipython",
    "version": 3
   },
   "file_extension": ".py",
   "mimetype": "text/x-python",
   "name": "python",
   "nbconvert_exporter": "python",
   "pygments_lexer": "ipython3",
   "version": "3.7.9-final"
  },
  "orig_nbformat": 2,
  "kernelspec": {
   "name": "Python 3.7.9 64-bit ('Comptacloud': conda)",
   "display_name": "Python 3.7.9 64-bit ('Comptacloud': conda)",
   "metadata": {
    "interpreter": {
     "hash": "feb71edeedfcc0f0bdd14a1a97cb748caf3b086f0311b8f165a4eda5b2f8ec50"
    }
   }
  }
 },
 "nbformat": 4,
 "nbformat_minor": 2,
 "cells": [
  {
   "source": [
    "# Comptacloud\n",
    "*Mathieu & Orkaëlle*"
   ],
   "cell_type": "markdown",
   "metadata": {}
  },
  {
   "source": [
    "## 0 - Choix de la lettre"
   ],
   "cell_type": "markdown",
   "metadata": {}
  },
  {
   "cell_type": "code",
   "execution_count": 13,
   "metadata": {},
   "outputs": [
    {
     "output_type": "stream",
     "name": "stdout",
     "text": [
      "['O', 'B', 'J']\n['alphabet-dataset/O', 'alphabet-dataset/B', 'alphabet-dataset/J']\n"
     ]
    }
   ],
   "source": [
    "# Saisir ci-dessous la(les) lettre(s) souhaitée(s)\n",
    "car = ['O','B','J']\n",
    "\n",
    "car_path = []\n",
    "for c in car :\n",
    "    car_path.append(f'alphabet-dataset/{c}')"
   ]
  },
  {
   "source": [
    "## 1 - Installation"
   ],
   "cell_type": "markdown",
   "metadata": {}
  },
  {
   "cell_type": "code",
   "execution_count": 3,
   "metadata": {},
   "outputs": [],
   "source": [
    "%load_ext autoreload\n",
    "%autoreload 2"
   ]
  },
  {
   "cell_type": "code",
   "execution_count": 10,
   "metadata": {},
   "outputs": [],
   "source": [
    "import fct"
   ]
  },
  {
   "cell_type": "code",
   "execution_count": 11,
   "metadata": {},
   "outputs": [
    {
     "output_type": "stream",
     "name": "stdout",
     "text": [
      "Datas already downloaded.\nDatas already extracted.\nDatas are successfully loaded.\n\n"
     ]
    }
   ],
   "source": [
    "fct.check_folder()\n",
    "fct.ensure_data_loaded(car_path)"
   ]
  }
 ]
}