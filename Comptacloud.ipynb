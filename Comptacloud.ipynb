{
 "metadata": {
  "language_info": {
   "codemirror_mode": {
    "name": "ipython",
    "version": 3
   },
   "file_extension": ".py",
   "mimetype": "text/x-python",
   "name": "python",
   "nbconvert_exporter": "python",
   "pygments_lexer": "ipython3",
   "version": "3.7.9-final"
  },
  "orig_nbformat": 2,
  "kernelspec": {
   "name": "Python 3.7.9 64-bit ('Comptacloud': conda)",
   "display_name": "Python 3.7.9 64-bit ('Comptacloud': conda)",
   "metadata": {
    "interpreter": {
     "hash": "feb71edeedfcc0f0bdd14a1a97cb748caf3b086f0311b8f165a4eda5b2f8ec50"
    }
   }
  }
 },
 "nbformat": 4,
 "nbformat_minor": 2,
 "cells": [
  {
   "source": [
    "# Comptacloud\n",
    "*Mathieu & Orkaëlle*"
   ],
   "cell_type": "markdown",
   "metadata": {}
  },
  {
   "source": [
    "## 0 - Choix de la lettre"
   ],
   "cell_type": "markdown",
   "metadata": {}
  },
  {
   "cell_type": "code",
   "execution_count": 1,
   "metadata": {},
   "outputs": [],
   "source": [
    "%load_ext autoreload\n",
    "%autoreload 2"
   ]
  },
  {
   "cell_type": "code",
   "execution_count": 2,
   "metadata": {},
   "outputs": [
    {
     "output_type": "stream",
     "name": "stderr",
     "text": [
      "Using TensorFlow backend.\n"
     ]
    }
   ],
   "source": [
    "import fct_utiles as fct\n",
    "import IA_comptacloud as IACC"
   ]
  },
  {
   "cell_type": "code",
   "execution_count": 3,
   "metadata": {},
   "outputs": [],
   "source": [
    "# Saisir ci-dessous la(les) lettre(s) souhaitée(s)\n",
    "car = fct.alphabet"
   ]
  },
  {
   "cell_type": "code",
   "execution_count": 4,
   "metadata": {},
   "outputs": [],
   "source": [
    "car_path = []\n",
    "for c in car :\n",
    "    car_path.append(f'alphabet-dataset/{c}/')"
   ]
  },
  {
   "source": [
    "## 1 - Initialisation"
   ],
   "cell_type": "markdown",
   "metadata": {}
  },
  {
   "source": [
    "### Loading raw datas"
   ],
   "cell_type": "markdown",
   "metadata": {}
  },
  {
   "cell_type": "code",
   "execution_count": 5,
   "metadata": {},
   "outputs": [
    {
     "output_type": "stream",
     "name": "stdout",
     "text": [
      "Datas already downloaded.\nDatas are successfully loaded.\n\n"
     ]
    }
   ],
   "source": [
    "fct.check_folder()\n",
    "fct.ensure_data_loaded(car_path)"
   ]
  },
  {
   "source": [
    "### Convert png to csv"
   ],
   "cell_type": "markdown",
   "metadata": {}
  },
  {
   "cell_type": "code",
   "execution_count": 6,
   "metadata": {},
   "outputs": [],
   "source": [
    "if os.path.exists(fct.DATASET_PATH) :\n",
    "    if input('Ecraser le csv existant ? (o/n)') == 'o' :\n",
    "        fct.png_to_csv(car_path, 1000)\n",
    "else :\n",
    "    fct.png_to_csv(car_path, 1000)"
   ]
  },
  {
   "source": [
    "## 2 - Training"
   ],
   "cell_type": "markdown",
   "metadata": {}
  },
  {
   "cell_type": "code",
   "execution_count": 7,
   "metadata": {},
   "outputs": [],
   "source": [
    "datasetPath = fct.DATASET_PATH\n",
    "modelName = 'thousandmodel'\n",
    "num_classes = len(fct.alphabet)"
   ]
  },
  {
   "cell_type": "code",
   "execution_count": 8,
   "metadata": {},
   "outputs": [
    {
     "output_type": "stream",
     "name": "stdout",
     "text": [
      "20800 train samples\n",
      "5200 test samples\n",
      "Test loss: 0.09537258410253203\n",
      "Test accuracy: 0.9763461351394653\n"
     ]
    }
   ],
   "source": [
    "modelPath = IACC.train_model(datasetPath, modelName)"
   ]
  },
  {
   "source": [
    "## Computer Metrics"
   ],
   "cell_type": "markdown",
   "metadata": {}
  },
  {
   "cell_type": "code",
   "execution_count": 9,
   "metadata": {},
   "outputs": [],
   "source": [
    "# Infos sur résultats du modèles\n",
    "if input('Voulez-vous des stats sur le modèle ? (o/n)') == 'o' :\n",
    "    IACC.computer_metrics(modelPath)"
   ]
  },
  {
   "source": [
    "## Testing the model"
   ],
   "cell_type": "markdown",
   "metadata": {}
  },
  {
   "cell_type": "code",
   "execution_count": 10,
   "metadata": {},
   "outputs": [],
   "source": [
    "# Teste en dessinant ! :D\n",
    "if input('Un petit test en dessin ?? (o/n)') == 'o' :\n",
    "    IACC.drawing_test(modelPath)"
   ]
  },
  {
   "cell_type": "code",
   "execution_count": 11,
   "metadata": {},
   "outputs": [
    {
     "output_type": "stream",
     "name": "stdout",
     "text": [
      "[INFO] loading handwriting OCR model...\n",
      "[INFO] F - 99.96%\n",
      "[INFO] O - 97.42%\n",
      "[INFO] R - 99.62%\n",
      "[INFO] M - 99.96%\n",
      "[INFO] H - 56.41%\n",
      "[INFO] T - 99.89%\n",
      "[INFO] I - 20.28%\n",
      "[INFO] O - 98.25%\n",
      "[INFO] N - 99.46%\n",
      "[INFO] D - 99.99%\n",
      "[INFO] A - 82.21%\n",
      "[INFO] T - 67.24%\n",
      "[INFO] A - 86.70%\n",
      "[INFO] X - 46.35%\n",
      "[INFO] A - 98.74%\n"
     ]
    }
   ],
   "source": [
    "img = './TESTS/imgtestTB.jpeg'\n",
    "IACC.img_test(modelPath, img)"
   ]
  },
  {
   "cell_type": "code",
   "execution_count": null,
   "metadata": {},
   "outputs": [],
   "source": []
  }
 ]
}